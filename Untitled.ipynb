{
 "cells": [
  {
   "cell_type": "code",
   "execution_count": 1,
   "id": "6c6a1a54",
   "metadata": {},
   "outputs": [],
   "source": [
    "import os, sys\n",
    "PWD = os.getenv('PWD')\n",
    "\n",
    "os.chdir(PWD)\n",
    "sys.path.insert(0, os.getenv('PWD'))\n",
    "os.environ.setdefault(\"DJANGO_SETTINGS_MODULE\", \"settings.local\")\n",
    "\n",
    "import django\n",
    "django.setup()\n",
    "\n",
    "os.environ[\"DJANGO_ALLOW_ASYNC_UNSAFE\"] = \"true\""
   ]
  },
  {
   "cell_type": "code",
   "execution_count": 2,
   "id": "e734c541",
   "metadata": {},
   "outputs": [],
   "source": [
    "from college.models import College"
   ]
  },
  {
   "cell_type": "code",
   "execution_count": 3,
   "id": "b05f4c5a",
   "metadata": {},
   "outputs": [],
   "source": [
    "c = College.objects.first()"
   ]
  },
  {
   "cell_type": "code",
   "execution_count": 4,
   "id": "1ea02a75",
   "metadata": {},
   "outputs": [
    {
     "data": {
      "text/plain": [
       "<College: Army Institute of Technology (AIT), Pune>"
      ]
     },
     "execution_count": 4,
     "metadata": {},
     "output_type": "execute_result"
    }
   ],
   "source": [
    "c"
   ]
  },
  {
   "cell_type": "code",
   "execution_count": 5,
   "id": "2f05bee1",
   "metadata": {},
   "outputs": [
    {
     "data": {
      "text/plain": [
       "['https://www.google.com/maps/place/Army+Institute+Of+Management+And+Technology+(AIMT)/@28.4417728,77.5051757,17z/data=!4m7!3m6!1s0x390cc1b67ebfa39f:0xcfb987f8beed66d2!8m2!3d28.4417728!4d77.5073644!9m1!1b1',\n",
       " 'https://www.careers360.com/colleges/army-institute-of-technology-pune/reviews',\n",
       " 'https://www.shiksha.com/college/ait-army-institute-of-technology-dighi-hills-pune-19534/reviews',\n",
       " 'https://collegedunia.com/college/12868-army-institute-of-technology-ait-pune/reviews']"
      ]
     },
     "execution_count": 5,
     "metadata": {},
     "output_type": "execute_result"
    }
   ],
   "source": [
    "c.scraping_urls"
   ]
  },
  {
   "cell_type": "code",
   "execution_count": 6,
   "id": "f3e58d79",
   "metadata": {},
   "outputs": [
    {
     "data": {
      "text/plain": [
       "'https://www.careers360.com/colleges/army-institute-of-technology-pune/reviews'"
      ]
     },
     "execution_count": 6,
     "metadata": {},
     "output_type": "execute_result"
    }
   ],
   "source": [
    "c.scraping_urls[1]"
   ]
  },
  {
   "cell_type": "code",
   "execution_count": 7,
   "id": "a7d5b90b",
   "metadata": {},
   "outputs": [],
   "source": [
    "c1 = College.objects.filter(abbreviated_name__icontains='IIT')"
   ]
  },
  {
   "cell_type": "code",
   "execution_count": 8,
   "id": "67807025",
   "metadata": {},
   "outputs": [
    {
     "data": {
      "text/plain": [
       "django.db.models.query.QuerySet"
      ]
     },
     "execution_count": 8,
     "metadata": {},
     "output_type": "execute_result"
    }
   ],
   "source": [
    "type(c1)"
   ]
  },
  {
   "cell_type": "code",
   "execution_count": 9,
   "id": "0d781016",
   "metadata": {},
   "outputs": [
    {
     "data": {
      "text/plain": [
       "30"
      ]
     },
     "execution_count": 9,
     "metadata": {},
     "output_type": "execute_result"
    }
   ],
   "source": [
    "len(c1)"
   ]
  },
  {
   "cell_type": "code",
   "execution_count": null,
   "id": "009e5a4b",
   "metadata": {},
   "outputs": [],
   "source": []
  }
 ],
 "metadata": {
  "kernelspec": {
   "display_name": "Django Shell-Plus",
   "language": "python",
   "name": "django_extensions"
  },
  "language_info": {
   "codemirror_mode": {
    "name": "ipython",
    "version": 3
   },
   "file_extension": ".py",
   "mimetype": "text/x-python",
   "name": "python",
   "nbconvert_exporter": "python",
   "pygments_lexer": "ipython3",
   "version": "3.8.2"
  }
 },
 "nbformat": 4,
 "nbformat_minor": 5
}
